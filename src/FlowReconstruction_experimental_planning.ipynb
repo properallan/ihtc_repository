{
 "cells": [
  {
   "cell_type": "markdown",
   "metadata": {},
   "source": [
    "This notebook generates the doe file for a factorial design"
   ]
  },
  {
   "cell_type": "code",
   "execution_count": 2,
   "metadata": {},
   "outputs": [],
   "source": [
    "import pathlib\n",
    "import configparser\n",
    "import os\n",
    "import glob\n",
    "import numpy as np\n",
    "import pyvista as pv\n",
    "import pandas as pd\n",
    "import h5py\n",
    "from svd_dataset import SVD\n",
    "import tensorflow as tf\n",
    "\n",
    "\n",
    "class CaseConfigParser(configparser.ConfigParser):\n",
    "    def optionxform(self, optionstr):\n",
    "        return optionstr\n",
    "\n",
    "def config_to_dict(config):\n",
    "    new_dict = {}\n",
    "    for k, v in config._sections.items():\n",
    "        new_dict[k] = {}\n",
    "        for k_, v_ in v.items():\n",
    "            try:\n",
    "                new_dict[k][k_] = eval(v_)\n",
    "            except:\n",
    "                new_dict[k][k_] = v_\n",
    "    return new_dict"
   ]
  },
  {
   "cell_type": "code",
   "execution_count": null,
   "metadata": {},
   "outputs": [],
   "source": [
    "config_file = '/home/ppiper/ihtc_repository/src/doe_experimental_planning.cfg'\n",
    "config = CaseConfigParser()\n",
    "config.read(config_file)\n",
    "config = config_to_dict(config)"
   ]
  },
  {
   "cell_type": "code",
   "execution_count": null,
   "metadata": {},
   "outputs": [],
   "source": [
    "DOE_VARIABLES = config['DOE_VARIABLES']\n",
    "#SAMPLES = config['DATASET']['SAMPLES']\n",
    "DOEFILE = config['DATASET']['DOEFILE']\n",
    "DATASET_ROOT = config['DATASET']['DATASET_ROOT']\n",
    "DOEFILE_PATH = f\"{(pathlib.Path(DATASET_ROOT) / pathlib.Path(DOEFILE)).resolve()}\"\n",
    "os.makedirs(pathlib.Path(DOEFILE_PATH).resolve().parent, exist_ok=True)"
   ]
  },
  {
   "cell_type": "code",
   "execution_count": null,
   "metadata": {},
   "outputs": [],
   "source": [
    "from explann_doe import fullfact, ff2n, ccdesign"
   ]
  },
  {
   "cell_type": "code",
   "execution_count": null,
   "metadata": {},
   "outputs": [],
   "source": [
    "NVARS = config['DOE_VARIABLES'].__len__()\n",
    "### ccc stands for central composite circunscribed\n",
    "DOE_FUNCTION = eval(config['DOE_SAMPLING']['FUNCTION'])\n",
    "KWARGS = config['DOE_SAMPLING_KWARGS']"
   ]
  },
  {
   "cell_type": "code",
   "execution_count": null,
   "metadata": {},
   "outputs": [],
   "source": [
    "experimental_planning = DOE_FUNCTION(NVARS, **KWARGS )\n",
    "\n",
    "levels = np.unique(experimental_planning)\n",
    "\n",
    "DOE_VARIABLES_LEVELS = {}\n",
    "for var, var_range in DOE_VARIABLES.items():\n",
    "    DOE_VARIABLES_LEVELS[var] = np.interp(levels, (levels.min(), levels.max()), var_range)\n",
    "\n",
    "np.set_printoptions(precision=5, suppress=True)\n",
    "\n",
    "converted_levels = np.array([array for array in DOE_VARIABLES_LEVELS.values()])\n",
    "converted_levels"
   ]
  },
  {
   "cell_type": "code",
   "execution_count": null,
   "metadata": {},
   "outputs": [],
   "source": [
    "experimental_planning_converted = np.copy(experimental_planning)\n",
    "for i in range(experimental_planning.shape[1]):\n",
    "    experimental_planning_converted[:,i] = experimental_planning[:,i]*(converted_levels[i][-2]-np.mean(converted_levels[i])) + np.mean(converted_levels[i])\n",
    "experimental_planning_converted"
   ]
  },
  {
   "cell_type": "code",
   "execution_count": null,
   "metadata": {},
   "outputs": [],
   "source": [
    "experimental_planning_converted_ids = np.concatenate([np.arange(1,experimental_planning_converted.shape[0]+1)[:,None],experimental_planning_converted], axis=1)\n",
    "experimental_planning_converted_ids_dataframe = pd.DataFrame(data=experimental_planning_converted_ids, columns=['ID','Thickness','CP3_y','T0in','p0in','outerTemperature'])\n",
    "experimental_planning_converted_ids_dataframe.to_csv(DOEFILE_PATH, sep=',', index=False)\n",
    "experimental_planning_converted_ids_dataframe\n"
   ]
  },
  {
   "attachments": {},
   "cell_type": "markdown",
   "metadata": {},
   "source": [
    "# Impor Files\n",
    "\n",
    "This block of code should be placed as a sapparate class"
   ]
  },
  {
   "attachments": {},
   "cell_type": "markdown",
   "metadata": {},
   "source": [
    "# Generate DoE"
   ]
  },
  {
   "attachments": {},
   "cell_type": "markdown",
   "metadata": {},
   "source": [
    "# Running the DoE"
   ]
  },
  {
   "cell_type": "code",
   "execution_count": null,
   "metadata": {},
   "outputs": [],
   "source": [
    "from run_models import doe_run"
   ]
  },
  {
   "cell_type": "code",
   "execution_count": null,
   "metadata": {},
   "outputs": [
    {
     "name": "stdout",
     "output_type": "stream",
     "text": [
      "Thickness (0.001, 0.01)\n",
      "CP3_y (-0.01255805, 0.0)\n",
      "T0in (400, 800)\n",
      "p0in (400000.0, 1000000.0)\n",
      "outerTemperature (290, 400)\n"
     ]
    },
    {
     "name": "stderr",
     "output_type": "stream",
     "text": [
      "xterm: cannot load font \"-misc-fixed-medium-r-semicondensed--13-120-75-75-c-60-iso10646-1\"\n",
      "xterm: cannot load font \"-misc-fixed-medium-r-semicondensed--13-120-75-75-c-60-iso10646-1\"\n",
      "xterm: cannot load font \"-misc-fixed-medium-r-semicondensed--13-120-75-75-c-60-iso10646-1\"\n",
      "xterm: cannot load font \"-misc-fixed-medium-r-semicondensed--13-120-75-75-c-60-iso10646-1\"\n",
      "xterm: cannot load font \"-misc-fixed-medium-r-semicondensed--13-120-75-75-c-60-iso10646-1\"\n",
      "xterm: cannot load font \"-misc-fixed-medium-r-semicondensed--13-120-75-75-c-60-iso10646-1\"\n",
      "xterm: cannot load font \"-misc-fixed-medium-r-semicondensed--13-120-75-75-c-60-iso10646-1\"\n"
     ]
    },
    {
     "name": "stderr",
     "output_type": "stream",
     "text": [
      "xterm: cannot load font \"-misc-fixed-medium-r-semicondensed--13-120-75-75-c-60-iso10646-1\"\n",
      "xterm: cannot load font \"-misc-fixed-medium-r-semicondensed--13-120-75-75-c-60-iso10646-1\"\n",
      "xterm: cannot load font \"-misc-fixed-medium-r-semicondensed--13-120-75-75-c-60-iso10646-1\"\n",
      "xterm: cannot load font \"-misc-fixed-medium-r-semicondensed--13-120-75-75-c-60-iso10646-1\"\n",
      "xterm: cannot load font \"-misc-fixed-medium-r-semicondensed--13-120-75-75-c-60-iso10646-1\"\n",
      "xterm: cannot load font \"-misc-fixed-medium-r-semicondensed--13-120-75-75-c-60-iso10646-1\"\n",
      "xterm: cannot load font \"-misc-fixed-medium-r-semicondensed--13-120-75-75-c-60-iso10646-1\"\n",
      "xterm: cannot load font \"-misc-fixed-medium-r-semicondensed--13-120-75-75-c-60-iso10646-1\"\n",
      "xterm: cannot load font \"-misc-fixed-medium-r-semicondensed--13-120-75-75-c-60-iso10646-1\"\n"
     ]
    }
   ],
   "source": [
    "config_file = '/home/ppiper/ihtc_repository/src/doe_experimental_planning.cfg'\n",
    "doe_run(config_file)"
   ]
  },
  {
   "cell_type": "code",
   "execution_count": 1,
   "metadata": {},
   "outputs": [
    {
     "name": "stderr",
     "output_type": "stream",
     "text": [
      "xterm: xterm: cannot load font \"-misc-fixed-medium-r-semicondensed--13-120-75-75-c-60-iso10646-1\"\n",
      "cannot load font \"-misc-fixed-medium-r-semicondensed--13-120-75-75-c-60-iso10646-1\"\n",
      "xterm: cannot load font \"-misc-fixed-medium-r-semicondensed--13-120-75-75-c-60-iso10646-1\"\n",
      "xterm: cannot load font \"-misc-fixed-medium-r-semicondensed--13-120-75-75-c-60-iso10646-1\"\n",
      "xterm: cannot load font \"-misc-fixed-medium-r-semicondensed--13-120-75-75-c-60-iso10646-1\"\n",
      "xterm: cannot load font \"-misc-fixed-medium-r-semicondensed--13-120-75-75-c-60-iso10646-1\"\n",
      "xterm: cannot load font \"-misc-fixed-medium-r-semicondensed--13-120-75-75-c-60-iso10646-1\"\n",
      "xterm: xterm: cannot load font \"-misc-fixed-medium-r-semicondensed--13-120-75-75-c-60-iso10646-1\"\n",
      "cannot load font \"-misc-fixed-medium-r-semicondensed--13-120-75-75-c-60-iso10646-1\"\n",
      "xterm: cannot load font \"-misc-fixed-medium-r-semicondensed--13-120-75-75-c-60-iso10646-1\"\n",
      "xterm: cannot load font \"-misc-fixed-medium-r-semicondensed--13-120-75-75-c-60-iso10646-1\"\n",
      "xterm: cannot load font \"-misc-fixed-medium-r-semicondensed--13-120-75-75-c-60-iso10646-1\"\n",
      "xterm: xterm: cannot load font \"-misc-fixed-medium-r-semicondensed--13-120-75-75-c-60-iso10646-1\"\n",
      "cannot load font \"-misc-fixed-medium-r-semicondensed--13-120-75-75-c-60-iso10646-1\"\n",
      "xterm: cannot load font \"-misc-fixed-medium-r-semicondensed--13-120-75-75-c-60-iso10646-1\"\n",
      "xterm: cannot load font \"-misc-fixed-medium-r-semicondensed--13-120-75-75-c-60-iso10646-1\"\n"
     ]
    }
   ],
   "source": [
    "from run_models import doe_run_from_file\n",
    "\n",
    "config_file = '/home/ppiper/ihtc_repository/src/doe_experimental_planning_remaining.cfg'\n",
    "doe_run_from_file(config_file)"
   ]
  },
  {
   "cell_type": "code",
   "execution_count": 2,
   "metadata": {},
   "outputs": [
    {
     "name": "stdout",
     "output_type": "stream",
     "text": [
      "Thickness (0.001, 0.01)\n",
      "CP3_y (-0.01255805, 0.0)\n",
      "T0in (400, 650)\n",
      "p0in (400000.0, 1000000.0)\n",
      "outerTemperature (290, 400)\n"
     ]
    },
    {
     "name": "stderr",
     "output_type": "stream",
     "text": [
      "xterm: cannot load font \"-misc-fixed-medium-r-semicondensed--13-120-75-75-c-60-iso10646-1\"\n",
      "xterm: cannot load font \"-misc-fixed-medium-r-semicondensed--13-120-75-75-c-60-iso10646-1\"\n",
      "xterm: cannot load font \"-misc-fixed-medium-r-semicondensed--13-120-75-75-c-60-iso10646-1\"\n",
      "xterm: cannot load font \"-misc-fixed-medium-r-semicondensed--13-120-75-75-c-60-iso10646-1\"\n",
      "xterm: cannot load font \"-misc-fixed-medium-r-semicondensed--13-120-75-75-c-60-iso10646-1\"\n",
      "xterm: cannot load font \"-misc-fixed-medium-r-semicondensed--13-120-75-75-c-60-iso10646-1\"\n",
      "xterm: cannot load font \"-misc-fixed-medium-r-semicondensed--13-120-75-75-c-60-iso10646-1\"\n",
      "xterm: cannot load font \"-misc-fixed-medium-r-semicondensed--13-120-75-75-c-60-iso10646-1\"\n",
      "xterm: cannot load font \"-misc-fixed-medium-r-semicondensed--13-120-75-75-c-60-iso10646-1\"\n",
      "xterm: cannot load font \"-misc-fixed-medium-r-semicondensed--13-120-75-75-c-60-iso10646-1\"\n",
      "xterm: cannot load font \"-misc-fixed-medium-r-semicondensed--13-120-75-75-c-60-iso10646-1\"\n"
     ]
    },
    {
     "name": "stderr",
     "output_type": "stream",
     "text": [
      "xterm: cannot load font \"-misc-fixed-medium-r-semicondensed--13-120-75-75-c-60-iso10646-1\"\n",
      "xterm: cannot load font \"-misc-fixed-medium-r-semicondensed--13-120-75-75-c-60-iso10646-1\"\n",
      "xterm: cannot load font \"-misc-fixed-medium-r-semicondensed--13-120-75-75-c-60-iso10646-1\"\n",
      "xterm: cannot load font \"-misc-fixed-medium-r-semicondensed--13-120-75-75-c-60-iso10646-1\"\n",
      "xterm: cannot load font \"-misc-fixed-medium-r-semicondensed--13-120-75-75-c-60-iso10646-1\"\n"
     ]
    }
   ],
   "source": [
    "from run_models import doe_run\n",
    "\n",
    "config_file = '/home/ppiper/ihtc_repository/src/doe_experimental_planning_T0in_limit.cfg'\n",
    "doe_run(config_file)"
   ]
  },
  {
   "cell_type": "code",
   "execution_count": null,
   "metadata": {},
   "outputs": [],
   "source": []
  }
 ],
 "metadata": {
  "kernelspec": {
   "display_name": "Python 3",
   "language": "python",
   "name": "python3"
  },
  "language_info": {
   "codemirror_mode": {
    "name": "ipython",
    "version": 3
   },
   "file_extension": ".py",
   "mimetype": "text/x-python",
   "name": "python",
   "nbconvert_exporter": "python",
   "pygments_lexer": "ipython3",
   "version": "3.11.2"
  },
  "orig_nbformat": 4
 },
 "nbformat": 4,
 "nbformat_minor": 2
}
