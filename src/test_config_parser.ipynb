{
 "cells": [
  {
   "cell_type": "code",
   "execution_count": 1,
   "metadata": {},
   "outputs": [],
   "source": [
    "from run_models import CaseConfigParser, read_config_file\n",
    "from ast import literal_eval\n",
    "import pathlib\n",
    "\n",
    "\n",
    "#config = read_config_file('/home/ppiper/Dropbox/local/ihtc_repository/src/test_config_parser.cfg')"
   ]
  },
  {
   "cell_type": "code",
   "execution_count": 2,
   "metadata": {},
   "outputs": [],
   "source": [
    "#config['DOE_VARIABLES']['Thickness']"
   ]
  },
  {
   "cell_type": "code",
   "execution_count": 18,
   "metadata": {},
   "outputs": [],
   "source": [
    "config = read_config_file('/home/ppiper/Dropbox/local/ihtc_repository/src/test_config_parser.cfg')\n"
   ]
  },
  {
   "cell_type": "code",
   "execution_count": 20,
   "metadata": {},
   "outputs": [
    {
     "name": "stdout",
     "output_type": "stream",
     "text": [
      "Thickness (0.001, 0.01)\n",
      "CP3_y (-0.01255805, 0.0)\n"
     ]
    }
   ],
   "source": [
    "SAMPLES = int(config['DATASET']['SAMPLES'])\n",
    "DATASET_ROOT = pathlib.Path(config['DATASET']['DATASET_ROOT']).resolve()\n",
    "DOEFILE = DATASET_ROOT /  pathlib.Path(config['DATASET']['DOEFILE'])\n",
    "\n",
    "DOE_VARIABLES = dict(config['DOE_VARIABLES'])\n",
    "\n",
    "for key, val in DOE_VARIABLES.items():\n",
    "    DOE_VARIABLES[key] = literal_eval(val)\n",
    "    print(key, DOE_VARIABLES[key])"
   ]
  },
  {
   "cell_type": "code",
   "execution_count": null,
   "metadata": {},
   "outputs": [],
   "source": [
    "DOE_VARIABLES"
   ]
  }
 ],
 "metadata": {
  "kernelspec": {
   "display_name": "Python 3",
   "language": "python",
   "name": "python3"
  },
  "language_info": {
   "codemirror_mode": {
    "name": "ipython",
    "version": 3
   },
   "file_extension": ".py",
   "mimetype": "text/x-python",
   "name": "python",
   "nbconvert_exporter": "python",
   "pygments_lexer": "ipython3",
   "version": "3.11.3"
  },
  "orig_nbformat": 4
 },
 "nbformat": 4,
 "nbformat_minor": 2
}
