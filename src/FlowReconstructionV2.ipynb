{
 "cells": [
  {
   "cell_type": "code",
   "execution_count": 3,
   "metadata": {},
   "outputs": [],
   "source": [
    "import os\n",
    "import glob\n",
    "import configparser\n",
    "import pathlib\n",
    "\n",
    "class CaseConfigParser(configparser.ConfigParser):\n",
    "    def optionxform(self, optionstr):\n",
    "        return optionstr\n",
    "\n",
    "\n",
    "def read_config_file(config_file):\n",
    "    config = CaseConfigParser()\n",
    "    config.read(config_file)\n",
    "\n",
    "    # convert all path to the absolute\n",
    "    for each_section in config.sections():\n",
    "        for (each_key, each_val) in config.items(each_section):\n",
    "            value = pathlib.Path(config[each_section][each_key])\n",
    "            if value.is_file() or value.is_dir():\n",
    "                config[each_section][each_key] = f\"{value.resolve()}\"\n",
    "    return config\n",
    "\n",
    "def get_converged_solutions(root_path, solution_path):\n",
    "    solutions_id = []\n",
    "    n_directories = len(list(filter( os.path.isdir, glob.glob(f'{root_path}/*') ))) \n",
    "    for i in range(n_directories):\n",
    "        solution_file = f'{root_path}/{i+1}/{solution_path}'\n",
    "        if len(list( glob.glob(f'{solution_file}*') )) > 0:\n",
    "            solutions_id.append(i+1)\n",
    "\n",
    "    return solutions_id\n",
    "\n",
    "def get_snapshot(id):\n",
    "    "
   ]
  },
  {
   "cell_type": "code",
   "execution_count": 4,
   "metadata": {},
   "outputs": [],
   "source": [
    "config = read_config_file('/home/ppiper/Dropbox/local/ihtc_repository/src/doe_30.cfg')"
   ]
  },
  {
   "cell_type": "code",
   "execution_count": 10,
   "metadata": {},
   "outputs": [],
   "source": [
    "solutions_idx = get_converged_solutions(config['DATASET']['DATASET_ROOT'], '/SU2/outputs/cht_setupSU2.vtm')"
   ]
  },
  {
   "cell_type": "code",
   "execution_count": 8,
   "metadata": {},
   "outputs": [
    {
     "ename": "TypeError",
     "evalue": "get_converged_solutions() missing 1 required positional argument: 'solution_path'",
     "output_type": "error",
     "traceback": [
      "\u001b[0;31m---------------------------------------------------------------------------\u001b[0m",
      "\u001b[0;31mTypeError\u001b[0m                                 Traceback (most recent call last)",
      "Cell \u001b[0;32mIn[8], line 1\u001b[0m\n\u001b[0;32m----> 1\u001b[0m get_converged_solutions(config[\u001b[39m'\u001b[39m\u001b[39mDATASET\u001b[39m\u001b[39m'\u001b[39m][\u001b[39m'\u001b[39m\u001b[39mDATASET_ROOT\u001b[39m\u001b[39m'\u001b[39m])\n",
      "\u001b[0;31mTypeError\u001b[0m: get_converged_solutions() missing 1 required positional argument: 'solution_path'"
     ]
    }
   ],
   "source": []
  },
  {
   "cell_type": "code",
   "execution_count": null,
   "metadata": {},
   "outputs": [],
   "source": []
  }
 ],
 "metadata": {
  "kernelspec": {
   "display_name": "Python 3",
   "language": "python",
   "name": "python3"
  },
  "language_info": {
   "codemirror_mode": {
    "name": "ipython",
    "version": 3
   },
   "file_extension": ".py",
   "mimetype": "text/x-python",
   "name": "python",
   "nbconvert_exporter": "python",
   "pygments_lexer": "ipython3",
   "version": "3.11.3"
  },
  "orig_nbformat": 4
 },
 "nbformat": 4,
 "nbformat_minor": 2
}
