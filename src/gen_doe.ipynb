{
 "cells": [
  {
   "cell_type": "code",
   "execution_count": 9,
   "metadata": {},
   "outputs": [],
   "source": [
    "from doe_sampling import Space, Lhs, Path\n",
    "import numpy as np\n",
    "import pandas as pd\n",
    "import logging"
   ]
  },
  {
   "cell_type": "code",
   "execution_count": 10,
   "metadata": {},
   "outputs": [],
   "source": [
    "\n",
    "\n",
    "#def write_lhs_file(variable_ranges, samples, path, labels):\n",
    "def write_lhs_file(doe_variables, samples, path):\n",
    "    variable_constants = []\n",
    "    variable_variables = []\n",
    "    variable_ranges = doe_variables.values()\n",
    "    labels=','.join(['ID'] + [key for key in doe_variables.keys()])\n",
    "    \n",
    "    for var in variable_ranges:\n",
    "        if not isinstance(var, tuple):\n",
    "            variable_constants.append(var)\n",
    "        elif var[0] == var[1]:\n",
    "            variable_constants.append(var[0])\n",
    "        else:\n",
    "            variable_variables.append(var)\n",
    "\n",
    "    space = Space(variable_variables)\n",
    "    lhs = Lhs(criterion=\"maximin\", iterations=10000)\n",
    "    x = lhs.generate(space.dimensions, samples)\n",
    "\n",
    "    for xi in x:\n",
    "        [xi.append(var) for var in variable_constants]\n",
    "\n",
    "    p = Path(path)\n",
    "    p.parent.mkdir(parents=True, exist_ok=True)\n",
    "    with open(path, 'w') as f:\n",
    "        f.write(f'{labels}\\n')\n",
    "        for i in range(len(x)):\n",
    "            f.write(f'{i+1}')\n",
    "            for j in range(len(np.array(x)[i,:])):\n",
    "                f.write(f', {np.array(x)[i,j]}')\n",
    "            f.write('\\n')\n",
    "    print(path)"
   ]
  },
  {
   "cell_type": "code",
   "execution_count": 11,
   "metadata": {},
   "outputs": [],
   "source": [
    "SAMPLES = 30\n",
    "DATASET_ROOT = f'/home/ppiper/ihtc_repository/data/doe_30/'\n",
    "DOEFILE = f'{DATASET_ROOT}doe_lhs.txt'\n",
    "\n",
    "DOE_VARIABLES = {\n",
    "                #'T0in' : (285.0, 1115.0),\n",
    "                 'Thickness' : (0.001, 0.010),\n",
    "                #'p0in': (0.5e6, 1e6),\n",
    "                 'CP3_y': (-0.01255805, 0.0),\n",
    "                 }\n",
    "\n",
    "OTHER_PARAMS = {\n",
    "                'Nx': 210,\n",
    "                'Ny': 330,\n",
    "                'tol': 1e-8,\n",
    "                'cores': None,\n",
    "                'inflationRate': 1.0015,\n",
    "                'baselineCP' : '/home/ppiper/Dropbox/local/ihtc_repository/src/baselineCP.txt',\n",
    "                'metal': 'AISI406',\n",
    "                'itmaxSU2': 4_000,\n",
    "                'rootfile': DATASET_ROOT, \n",
    "}"
   ]
  },
  {
   "cell_type": "code",
   "execution_count": 14,
   "metadata": {},
   "outputs": [
    {
     "name": "stdout",
     "output_type": "stream",
     "text": [
      "/home/ppiper/ihtc_repository/data/doe_30/doe_lhs.txt\n"
     ]
    }
   ],
   "source": [
    "write_lhs_file(DOE_VARIABLES, SAMPLES, DOEFILE)"
   ]
  },
  {
   "cell_type": "code",
   "execution_count": 27,
   "metadata": {},
   "outputs": [
    {
     "data": {
      "text/plain": [
       "0"
      ]
     },
     "execution_count": 27,
     "metadata": {},
     "output_type": "execute_result"
    }
   ],
   "source": [
    "import subprocess\n",
    "from subprocess import PIPE\n",
    "\n",
    "subprocess.call([\"./multirun.sh\", f\"/home/ppiper/ihtc_repository/src/multiple_run\"],  stdin=PIPE, stderr=PIPE, stdout=PIPE, shell=True)"
   ]
  },
  {
   "cell_type": "code",
   "execution_count": 22,
   "metadata": {},
   "outputs": [
    {
     "data": {
      "text/plain": [
       "PosixPath('/home/ppiper/ihtc_repository/data/doe_30')"
      ]
     },
     "execution_count": 22,
     "metadata": {},
     "output_type": "execute_result"
    }
   ],
   "source": [
    "import pathlib\n",
    "pathlib.Path('../data/doe_30').resolve()"
   ]
  },
  {
   "cell_type": "code",
   "execution_count": 39,
   "metadata": {},
   "outputs": [
    {
     "data": {
      "text/plain": [
       "['/home/ppiper/ihtc_repository/src/doe_30.cfg']"
      ]
     },
     "execution_count": 39,
     "metadata": {},
     "output_type": "execute_result"
    }
   ],
   "source": [
    "import configparser\n",
    "class CaseConfigParser(configparser.ConfigParser):\n",
    "    def optionxform(self, optionstr):\n",
    "        return optionstr\n",
    "\n",
    "config = CaseConfigParser()\n",
    "config.read('/home/ppiper/ihtc_repository/src/doe_30.cfg')"
   ]
  },
  {
   "cell_type": "code",
   "execution_count": 42,
   "metadata": {},
   "outputs": [
    {
     "name": "stdout",
     "output_type": "stream",
     "text": [
      "/home/ppiper/ihtc_repository/src/models_parametric_shape.py\n",
      "/home/ppiper/ihtc_repository/data/doe_30/doe_lhs.txt\n",
      "/home/ppiper/ihtc_repository/src/gmsh\n",
      "/home/ppiper/ihtc_repository/src/SU2_CFD\n",
      "/home/ppiper/ihtc_repository/src/baselineCP.txt\n",
      "/home/ppiper/ihtc_repository/src/eulerQ1D\n",
      "/home/ppiper/ihtc_repository/src/baselineCP.txt\n",
      "/home/ppiper/ihtc_repository/src/multiple_run\n",
      "/home/ppiper/ihtc_repository/src/run_master.py\n",
      "/home/ppiper/ihtc_repository/data/doe_30\n"
     ]
    }
   ],
   "source": [
    "for each_section in config.sections():\n",
    "    for (each_key, each_val) in config.items(each_section):\n",
    "        value = pathlib.Path(config[each_section][each_key])\n",
    "        if value.is_file() or value.is_dir():\n",
    "            value = value.resolve()\n",
    "            print(value)"
   ]
  },
  {
   "cell_type": "code",
   "execution_count": 47,
   "metadata": {},
   "outputs": [
    {
     "name": "stdout",
     "output_type": "stream",
     "text": [
      "/home/ppiper/ihtc_repository/src/models_parametric_shape.py\n",
      "/home/ppiper/ihtc_repository/data/doe_30/doe_lhs.txt\n",
      "210\n",
      "330\n",
      "1e-16\n",
      "None\n",
      "1.0015\n",
      "AISI406\n",
      "3_000\n",
      "/home/ppiper/ihtc_repository/src/gmsh\n",
      "/home/ppiper/ihtc_repository/src/SU2_CFD\n",
      "/home/ppiper/ihtc_repository/src/baselineCP.txt\n",
      "600.0\n",
      "8.0e5\n",
      "1\n",
      "400\n",
      "/home/ppiper/ihtc_repository/src/eulerQ1D\n",
      "/home/ppiper/ihtc_repository/src/baselineCP.txt\n",
      "600.0\n",
      "8.0e5\n",
      "15\n",
      "/home/ppiper/ihtc_repository/src/multiple_run\n",
      "/home/ppiper/ihtc_repository/src/run_master.py\n",
      "/home/ppiper/ihtc_repository/data/doe_30\n"
     ]
    }
   ],
   "source": [
    "for each_section in config.sections():\n",
    "    for (each_key, each_val) in config.items(each_section):\n",
    "        value = pathlib.Path(config[each_section][each_key])\n",
    "        if value.is_file() or value.is_dir():\n",
    "            config[each_section][each_key] = f\"{value.resolve()}\"\n",
    "        print(config[each_section][each_key])"
   ]
  },
  {
   "cell_type": "code",
   "execution_count": null,
   "metadata": {},
   "outputs": [],
   "source": []
  }
 ],
 "metadata": {
  "kernelspec": {
   "display_name": "Python 3.8.1 64-bit",
   "language": "python",
   "name": "python3"
  },
  "language_info": {
   "codemirror_mode": {
    "name": "ipython",
    "version": 3
   },
   "file_extension": ".py",
   "mimetype": "text/x-python",
   "name": "python",
   "nbconvert_exporter": "python",
   "pygments_lexer": "ipython3",
   "version": "3.11.2"
  },
  "orig_nbformat": 4,
  "vscode": {
   "interpreter": {
    "hash": "fd953c15cada2fc77811e14a6849d0cca26d118935e9f341dc4bcbc3b9a4ec6a"
   }
  }
 },
 "nbformat": 4,
 "nbformat_minor": 2
}
